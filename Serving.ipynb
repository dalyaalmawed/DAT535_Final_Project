{
 "cells": [
  {
   "cell_type": "markdown",
   "metadata": {},
   "source": [
    "\n",
    "# MUSIC RECOMMENDER SYSTEM"
   ]
  },
  {
   "cell_type": "markdown",
   "metadata": {},
   "source": [
    "DATA INFORMATION"
   ]
  },
  {
   "cell_type": "code",
   "execution_count": 1,
   "metadata": {},
   "outputs": [],
   "source": [
    "from pyspark.sql import SparkSession\n",
    "from time import time"
   ]
  },
  {
   "cell_type": "code",
   "execution_count": 2,
   "metadata": {},
   "outputs": [],
   "source": [
    "# Create a SparkSession\n",
    "spark = SparkSession.builder \\\n",
    "    .appName(\"Music Recommendation System\") \\\n",
    "    .getOrCreate()"
   ]
  },
  {
   "cell_type": "code",
   "execution_count": 3,
   "metadata": {},
   "outputs": [
    {
     "name": "stderr",
     "output_type": "stream",
     "text": [
      "                                                                                \r"
     ]
    }
   ],
   "source": [
    "# Load data from Parquet\n",
    "music_df = spark.read.parquet(\"hdfs:///mydata/cleaned_music_info.parquet\")\n",
    "history_df = spark.read.parquet(\"hdfs:///mydata/cleaned_user_listening_history.parquet\")"
   ]
  },
  {
   "cell_type": "code",
   "execution_count": 4,
   "metadata": {},
   "outputs": [
    {
     "name": "stdout",
     "output_type": "stream",
     "text": [
      "Music Information DataFrame:\n"
     ]
    },
    {
     "name": "stderr",
     "output_type": "stream",
     "text": [
      "                                                                                \r"
     ]
    },
    {
     "name": "stdout",
     "output_type": "stream",
     "text": [
      "+------------------+--------------+---------------+-----------------------------------------------------------------------------+-------+----+------------+------+--------+-----------+------------+----------------+--------+\n",
      "|track_id          |name          |artist         |tags                                                                         |genre  |year|danceability|energy|loudness|speechiness|acousticness|instrumentalness|liveness|\n",
      "+------------------+--------------+---------------+-----------------------------------------------------------------------------+-------+----+------------+------+--------+-----------+------------+----------------+--------+\n",
      "|TRIOREW128F424EAF0|Mr. Brightside|The Killers    |rock, alternative, indie, alternative_rock, indie_rock, 00s                  |Unknown|2004|0.355       |0.918 |-4.36   |0.0746     |0.00119     |0.0             |0.0971  |\n",
      "|TRUEIND128F93038C4|Take Me Out   |Franz Ferdinand|rock, alternative, indie, alternative_rock, indie_rock, british, 00s, britpop|Unknown|2004|0.279       |0.664 |-8.851  |0.0371     |3.89E-4     |6.55E-4         |0.133   |\n",
      "|TRLNZBD128F935E4D8|Creep         |Radiohead      |rock, alternative, indie, alternative_rock, indie_rock, british, 90s, britpop|RnB    |2008|0.515       |0.43  |-9.935  |0.0369     |0.0102      |1.41E-4         |0.129   |\n",
      "|TRVCCWR128F9304A30|Viva la Vida  |Coldplay       |rock, alternative, indie, pop, alternative_rock, british, britpop            |Unknown|2013|0.588       |0.806 |-7.903  |0.105      |0.153       |0.0             |0.0634  |\n",
      "|TRXOGZT128F424AD74|Karma Police  |Radiohead      |rock, alternative, indie, alternative_rock, indie_rock, british, 90s, britpop|Unknown|1996|0.36        |0.505 |-9.129  |0.026      |0.0626      |9.22E-5         |0.172   |\n",
      "+------------------+--------------+---------------+-----------------------------------------------------------------------------+-------+----+------------+------+--------+-----------+------------+----------------+--------+\n",
      "only showing top 5 rows\n",
      "\n"
     ]
    }
   ],
   "source": [
    "# Show the first few rows of the music information DataFrame\n",
    "print(\"Music Information DataFrame:\")\n",
    "music_df.show(5, truncate=False)"
   ]
  },
  {
   "cell_type": "code",
   "execution_count": 5,
   "metadata": {},
   "outputs": [
    {
     "name": "stdout",
     "output_type": "stream",
     "text": [
      "User Listening History DataFrame:\n"
     ]
    },
    {
     "name": "stderr",
     "output_type": "stream",
     "text": [
      "[Stage 3:>                                                          (0 + 1) / 1]\r"
     ]
    },
    {
     "name": "stdout",
     "output_type": "stream",
     "text": [
      "+------------------+----------------------------------------+---------+\n",
      "|track_id          |user_id                                 |playcount|\n",
      "+------------------+----------------------------------------+---------+\n",
      "|TRDLMWP128F426BF6C|b80344d063b5ccb3212f76538f3d9e43d87dca9e|1        |\n",
      "|TRMSZXT128F92F7816|b80344d063b5ccb3212f76538f3d9e43d87dca9e|1        |\n",
      "|TRADEOV128F9330E3B|bd4c6e843f00bd476847fb75c47b4fb430a06856|1        |\n",
      "|TRDOYFZ128F426E715|969cc6fb74e076a68e36a04409cb9d3765757508|1        |\n",
      "|TRRELZC128E078ED67|4bd88bfb25263a75bbdd467e74018f4ae570e5df|6        |\n",
      "+------------------+----------------------------------------+---------+\n",
      "only showing top 5 rows\n",
      "\n"
     ]
    },
    {
     "name": "stderr",
     "output_type": "stream",
     "text": [
      "                                                                                \r"
     ]
    }
   ],
   "source": [
    "# Show the first few rows of the user listening history DataFrame\n",
    "print(\"User Listening History DataFrame:\")\n",
    "history_df.show(5 , truncate=False)"
   ]
  },
  {
   "cell_type": "code",
   "execution_count": 6,
   "metadata": {},
   "outputs": [
    {
     "name": "stdout",
     "output_type": "stream",
     "text": [
      "Music Information Schema:\n",
      "root\n",
      " |-- track_id: string (nullable = true)\n",
      " |-- name: string (nullable = true)\n",
      " |-- artist: string (nullable = true)\n",
      " |-- tags: string (nullable = true)\n",
      " |-- genre: string (nullable = true)\n",
      " |-- year: integer (nullable = true)\n",
      " |-- danceability: float (nullable = true)\n",
      " |-- energy: float (nullable = true)\n",
      " |-- loudness: float (nullable = true)\n",
      " |-- speechiness: float (nullable = true)\n",
      " |-- acousticness: float (nullable = true)\n",
      " |-- instrumentalness: float (nullable = true)\n",
      " |-- liveness: float (nullable = true)\n",
      "\n"
     ]
    }
   ],
   "source": [
    "# Display the schema of Music Information DataFrames for verification\n",
    "print(\"Music Information Schema:\")\n",
    "music_df.printSchema()"
   ]
  },
  {
   "cell_type": "code",
   "execution_count": 7,
   "metadata": {},
   "outputs": [
    {
     "name": "stdout",
     "output_type": "stream",
     "text": [
      "User Listening History Schema:\n",
      "root\n",
      " |-- track_id: string (nullable = true)\n",
      " |-- user_id: string (nullable = true)\n",
      " |-- playcount: integer (nullable = true)\n",
      "\n"
     ]
    }
   ],
   "source": [
    "# Display the schema of User Listening History DataFrames for verification\n",
    "print(\"User Listening History Schema:\")\n",
    "history_df.printSchema()"
   ]
  },
  {
   "cell_type": "markdown",
   "metadata": {},
   "source": [
    "# EXPLORATIVE DATA ANALYSIS"
   ]
  },
  {
   "cell_type": "code",
   "execution_count": 8,
   "metadata": {},
   "outputs": [],
   "source": [
    "from pyspark.sql.functions import col, sum, coalesce, lit, max, min, countDistinct, desc, count, avg, when\n",
    "import matplotlib.pyplot as plt\n",
    "from pyspark.sql import functions as F"
   ]
  },
  {
   "cell_type": "code",
   "execution_count": 9,
   "metadata": {},
   "outputs": [
    {
     "name": "stderr",
     "output_type": "stream",
     "text": [
      "                                                                                \r"
     ]
    },
    {
     "name": "stdout",
     "output_type": "stream",
     "text": [
      "\n",
      "Music Dataset's shape: (50681, 13)\n",
      "History Dataset's shape: (9711301, 3)\n",
      "\n",
      "Number of unique ARTISTS: 8,317 \t Number of NULL artist values: 0\n",
      "Number of unique USERS: 962,037 \t Number of NULL user_id values: 0\n",
      "Number of unique SONGS: 50,681 \t\t Number of NULL title values: 0\n",
      "\n",
      "MAX no. of times a single song has been listened by a single user: 2,948\n",
      "MIN no. of times a single song has been listened by a single user: 1\n",
      "\n"
     ]
    }
   ],
   "source": [
    "# Get the shape, number of rows and columns, of the datasets\n",
    "history_shape = (history_df.count(), len(history_df.columns))\n",
    "music_shape = (music_df.count(), len(music_df.columns))\n",
    "\n",
    "# Compute combined statistics for the history_df DataFrame\n",
    "history_stats = history_df.agg(\n",
    "    countDistinct(\"user_id\").alias(\"unique_users\"),  # Count unique users\n",
    "    count(when(col(\"user_id\").isNull(), 1)).alias(\"null_user_ids\"),  # Count null user_id values\n",
    "    max(\"playcount\").alias(\"max_listen_count\"),  # Maximum play count\n",
    "    min(\"playcount\").alias(\"min_listen_count\")  # Minimum play count\n",
    ").collect()[0]\n",
    "\n",
    "# Compute combined statistics for the music_df DataFrame\n",
    "music_stats = music_df.agg(\n",
    "    countDistinct(\"name\").alias(\"unique_songs\"),  # Count unique song names\n",
    "    count(when(col(\"name\").isNull(), 1)).alias(\"null_song_titles\"),  # Count null song title values\n",
    "    countDistinct(\"artist\").alias(\"unique_artists\"),  # Count unique artists\n",
    "    count(when(col(\"artist\").isNull(), 1)).alias(\"null_artists\")  # Count null artist values\n",
    ").collect()[0]\n",
    "\n",
    "# Extract statistics for history_df\n",
    "unique_users = history_stats[\"unique_users\"]\n",
    "null_user_ids = history_stats[\"null_user_ids\"]\n",
    "max_listen_count = history_stats[\"max_listen_count\"]\n",
    "min_listen_count = history_stats[\"min_listen_count\"]\n",
    "\n",
    "# Extract statistics for music_df\n",
    "unique_songs = music_stats[\"unique_songs\"]\n",
    "null_song_titles = music_stats[\"null_song_titles\"]\n",
    "unique_artists = music_stats[\"unique_artists\"]\n",
    "null_artists = music_stats[\"null_artists\"]\n",
    "\n",
    "# Print the computed statistics\n",
    "print(f\"\"\"\n",
    "Music Dataset's shape: {music_shape}\n",
    "History Dataset's shape: {history_shape}\n",
    "\n",
    "Number of unique ARTISTS: {unique_artists:,} \\t Number of NULL artist values: {null_artists}\n",
    "Number of unique USERS: {unique_users:,} \\t Number of NULL user_id values: {null_user_ids}\n",
    "Number of unique SONGS: {unique_songs:,} \\t\\t Number of NULL title values: {null_song_titles}\n",
    "\n",
    "MAX no. of times a single song has been listened by a single user: {max_listen_count:,}\n",
    "MIN no. of times a single song has been listened by a single user: {min_listen_count:,}\n",
    "\"\"\")\n"
   ]
  },
  {
   "cell_type": "markdown",
   "metadata": {},
   "source": [
    "Join the two DataFrames on the \"track_id\" column\n"
   ]
  },
  {
   "cell_type": "code",
   "execution_count": 10,
   "metadata": {},
   "outputs": [
    {
     "name": "stderr",
     "output_type": "stream",
     "text": [
      "                                                                                \r"
     ]
    },
    {
     "name": "stdout",
     "output_type": "stream",
     "text": [
      "+------------------+--------------+---------------+-----------------------------------------------------------------------------+-------+----+------------+------+--------+-----------+------------+----------------+--------+----------+\n",
      "|track_id          |name          |artist         |tags                                                                         |genre  |year|danceability|energy|loudness|speechiness|acousticness|instrumentalness|liveness|popularity|\n",
      "+------------------+--------------+---------------+-----------------------------------------------------------------------------+-------+----+------------+------+--------+-----------+------------+----------------+--------+----------+\n",
      "|TRIOREW128F424EAF0|Mr. Brightside|The Killers    |rock, alternative, indie, alternative_rock, indie_rock, 00s                  |Unknown|2004|0.355       |0.918 |-4.36   |0.0746     |0.00119     |0.0             |0.0971  |162       |\n",
      "|TRVCCWR128F9304A30|Viva la Vida  |Coldplay       |rock, alternative, indie, pop, alternative_rock, british, britpop            |Unknown|2013|0.588       |0.806 |-7.903  |0.105      |0.153       |0.0             |0.0634  |0         |\n",
      "|TRLNZBD128F935E4D8|Creep         |Radiohead      |rock, alternative, indie, alternative_rock, indie_rock, british, 90s, britpop|RnB    |2008|0.515       |0.43  |-9.935  |0.0369     |0.0102      |1.41E-4         |0.129   |0         |\n",
      "|TRUEIND128F93038C4|Take Me Out   |Franz Ferdinand|rock, alternative, indie, alternative_rock, indie_rock, british, 00s, britpop|Unknown|2004|0.279       |0.664 |-8.851  |0.0371     |3.89E-4     |6.55E-4         |0.133   |21        |\n",
      "|TRXOGZT128F424AD74|Karma Police  |Radiohead      |rock, alternative, indie, alternative_rock, indie_rock, british, 90s, britpop|Unknown|1996|0.36        |0.505 |-9.129  |0.026      |0.0626      |9.22E-5         |0.172   |48        |\n",
      "+------------------+--------------+---------------+-----------------------------------------------------------------------------+-------+----+------------+------+--------+-----------+------------+----------------+--------+----------+\n",
      "only showing top 5 rows\n",
      "\n",
      "50681\n"
     ]
    }
   ],
   "source": [
    "# Calculate cumulative playcount for each unique track_id in history_df\n",
    "history_agg_df = history_df.groupBy(\"track_id\").agg(\n",
    "    sum(\"playcount\").alias(\"popularity\")\n",
    ")\n",
    "\n",
    "# Perform a left join with music_df to keep all tracks from music_df\n",
    "df_music_p = music_df.join(history_agg_df, on=\"track_id\", how=\"left\")\n",
    "\n",
    "#  Fill null values in total_playcount with 0\n",
    "df_music_p = df_music_p.withColumn(\"popularity\", coalesce(col(\"popularity\"), lit(0)))\n",
    "\n",
    "# Display the first few results\n",
    "df_music_p.show(5, truncate=False)\n",
    "print(df_music_p.count())\n"
   ]
  },
  {
   "cell_type": "markdown",
   "metadata": {},
   "source": [
    "# IMPLEMENTING OUR RECOMMENDATION SYSTEM FILTERS:"
   ]
  },
  {
   "cell_type": "markdown",
   "metadata": {},
   "source": [
    "1. RECOMMEND ARTISTS BASED ON POPULARITY AND SUGGEST SOME OF THE SONGS "
   ]
  },
  {
   "cell_type": "code",
   "execution_count": 11,
   "metadata": {},
   "outputs": [],
   "source": [
    "# Function to get top artists based on popularity\n",
    "def get_top_artists(df, num_artists=5):\n",
    "    # Group by artist and sum the popularity\n",
    "    df_artist_popularity = df.groupBy(\"artist\").agg(sum(\"popularity\").alias(\"popularity\"))\n",
    "    \n",
    "    # Sort by popularity in descending order and limit to the top artists\n",
    "    df_top_artists = df_artist_popularity.orderBy(\"popularity\", ascending=False).limit(num_artists)\n",
    "    \n",
    "    return df_top_artists"
   ]
  },
  {
   "cell_type": "markdown",
   "metadata": {},
   "source": [
    "The provided function, recommend_songs_for_artists(), recommends top songs for a list of given artists by selecting a specified number of songs (num_songs_per_artist) for each artist based on song popularity."
   ]
  },
  {
   "cell_type": "code",
   "execution_count": 12,
   "metadata": {},
   "outputs": [],
   "source": [
    "# Function to recommend top songs for given artists\n",
    "def recommend_songs_for_artists(df, artists, num_songs_per_artist=2):\n",
    "    # Filter songs only for top artists and order by popularity\n",
    "    artist_tracks_df = (\n",
    "        df.filter(col(\"artist\").isin(artists))\n",
    "        .select(\"track_id\", \"name\", \"artist\", \"popularity\")\n",
    "        .orderBy(desc(\"popularity\"))\n",
    "    )\n",
    "\n",
    "    # Iterate over artists to display their top songs\n",
    "    for artist in artists:\n",
    "        print(f\"\\nTop songs by {artist}:\")\n",
    "        artist_songs = artist_tracks_df.filter(col(\"artist\") == artist).limit(num_songs_per_artist)\n",
    "        artist_songs.show(truncate=False)"
   ]
  },
  {
   "cell_type": "code",
   "execution_count": 13,
   "metadata": {},
   "outputs": [],
   "source": [
    "# Function to plot the popularity of top artists\n",
    "def plot_top_artists(artists, popularity):\n",
    "    # Create the bar chart\n",
    "    fig, ax = plt.subplots(figsize=(12, 6))\n",
    "    fig.patch.set_facecolor('black')\n",
    "    ax.set_facecolor('black')\n",
    "    ax.bar(artists, popularity, color='lightgreen')\n",
    "    \n",
    "    # Add labels and title \n",
    "    ax.set_xlabel('Artist', color='white')\n",
    "    ax.set_ylabel('Popularity', color='white')\n",
    "    ax.set_title(f'Top {len(artists)} Popular Singers', color='white')\n",
    "    \n",
    "    # Rotate the x-axis labels\n",
    "    plt.xticks(rotation=90, color='white')\n",
    "    \n",
    "    # Show gridlines \n",
    "    ax.grid(True, axis='y', color='gray')\n",
    "    \n",
    "    # Add y-tick labels \n",
    "    ax.tick_params(axis='y', colors='white')\n",
    "    \n",
    "    # Tight layout to ensure everything fits well\n",
    "    plt.tight_layout()\n",
    "    \n",
    "    # Show the plot\n",
    "    plt.show()"
   ]
  },
  {
   "cell_type": "code",
   "execution_count": 14,
   "metadata": {},
   "outputs": [],
   "source": [
    "# function to recommend popular artists and suggest songs\n",
    "def recommend_popular_artists(df_music_p, num_artists=5, num_songs_per_artist=2):\n",
    "    # Validate input\n",
    "    if num_artists <= 0 or num_songs_per_artist <= 0:\n",
    "        print(\"Number of artists and number of songs per artist must be greater than zero.\")\n",
    "        return\n",
    "\n",
    "    # Cache the DataFrame to improve performance when used multiple times\n",
    "    df_music_p = df_music_p.cache()\n",
    "    \n",
    "    # Get top artists\n",
    "    df_top_artists = get_top_artists(df_music_p, num_artists)\n",
    "    \n",
    "    # Convert to Pandas for easier manipulation and visualization\n",
    "    df_top_artists_pd = df_top_artists.toPandas()\n",
    "    artists = df_top_artists_pd['artist'].tolist()\n",
    "    popularity = df_top_artists_pd['popularity'].tolist()\n",
    "\n",
    "    # Recommend songs for the top artists\n",
    "    recommend_songs_for_artists(df_music_p, artists, num_songs_per_artist)\n",
    "\n",
    "    # Plot the popularity of the top artists\n",
    "    plot_top_artists(artists, popularity)"
   ]
  },
  {
   "cell_type": "code",
   "execution_count": 15,
   "metadata": {},
   "outputs": [
    {
     "name": "stderr",
     "output_type": "stream",
     "text": [
      "                                                                                \r"
     ]
    },
    {
     "name": "stdout",
     "output_type": "stream",
     "text": [
      "\n",
      "Top songs by Kings of Leon:\n"
     ]
    },
    {
     "name": "stderr",
     "output_type": "stream",
     "text": [
      "                                                                                \r"
     ]
    },
    {
     "name": "stdout",
     "output_type": "stream",
     "text": [
      "+------------------+----------------+-------------+----------+\n",
      "|track_id          |name            |artist       |popularity|\n",
      "+------------------+----------------+-------------+----------+\n",
      "|TRONYHY128F92C9D11|Revelry         |Kings of Leon|527893    |\n",
      "|TRVQTQG128F93073B0|Molly's Chambers|Kings of Leon|20761     |\n",
      "+------------------+----------------+-------------+----------+\n",
      "\n",
      "\n",
      "Top songs by The Black Keys:\n"
     ]
    },
    {
     "name": "stderr",
     "output_type": "stream",
     "text": [
      "                                                                                \r"
     ]
    },
    {
     "name": "stdout",
     "output_type": "stream",
     "text": [
      "+------------------+-------------------------+--------------+----------+\n",
      "|track_id          |name                     |artist        |popularity|\n",
      "+------------------+-------------------------+--------------+----------+\n",
      "|TRFBNZN128F9340B0E|All Hands Against His Own|The Black Keys|33178     |\n",
      "|TRRKXNQ128F9339002|I'll Be Your Man         |The Black Keys|28413     |\n",
      "+------------------+-------------------------+--------------+----------+\n",
      "\n",
      "\n",
      "Top songs by Justin Bieber:\n"
     ]
    },
    {
     "name": "stderr",
     "output_type": "stream",
     "text": [
      "                                                                                \r"
     ]
    },
    {
     "name": "stdout",
     "output_type": "stream",
     "text": [
      "+------------------+-----------------+-------------+----------+\n",
      "|track_id          |name             |artist       |popularity|\n",
      "+------------------+-----------------+-------------+----------+\n",
      "|TRRVJCK12903CD2DCB|U Smile          |Justin Bieber|61568     |\n",
      "|TRJJCJQ12903CD2DD3|That Should Be Me|Justin Bieber|49119     |\n",
      "+------------------+-----------------+-------------+----------+\n",
      "\n",
      "\n",
      "Top songs by Coldplay:\n",
      "+------------------+-----------+--------+----------+\n",
      "|track_id          |name       |artist  |popularity|\n",
      "+------------------+-----------+--------+----------+\n",
      "|TRFWGOJ128E0780C8B|In My Place|Coldplay|41433     |\n",
      "|TRZCIWG128F4248B25|Lost!      |Coldplay|21071     |\n",
      "+------------------+-----------+--------+----------+\n",
      "\n",
      "\n",
      "Top songs by Radiohead:\n"
     ]
    },
    {
     "name": "stderr",
     "output_type": "stream",
     "text": [
      "                                                                                \r"
     ]
    },
    {
     "name": "stdout",
     "output_type": "stream",
     "text": [
      "+------------------+------------+---------+----------+\n",
      "|track_id          |name        |artist   |popularity|\n",
      "+------------------+------------+---------+----------+\n",
      "|TRESMVD128F9310D57|(Nice Dream)|Radiohead|32962     |\n",
      "|TRARTEH128F423DBC1|15 Step     |Radiohead|17822     |\n",
      "+------------------+------------+---------+----------+\n",
      "\n"
     ]
    },
    {
     "data": {
      "image/png": "[encoded data removed]",
      "text/plain": [
       "<Figure size 1200x600 with 1 Axes>"
      ]
     },
     "metadata": {},
     "output_type": "display_data"
    }
   ],
   "source": [
    "# Recommend the most popular artists and suggest some songs\n",
    "recommend_popular_artists(df_music_p, num_artists=5, num_songs_per_artist=2)\n",
    "# beforw it was more than 1 minute"
   ]
  },
  {
   "cell_type": "markdown",
   "metadata": {},
   "source": [
    "2. RECOMMEND SONGS BASED ON THE MOST LISTENED TRACKS (TOP 10)"
   ]
  },
  {
   "cell_type": "code",
   "execution_count": 16,
   "metadata": {},
   "outputs": [],
   "source": [
    "# Function to recommend songs based on the most listened tracks\n",
    "def recommend_popular_songs(num_songs=5):\n",
    "    # Calculate the most popular tracks\n",
    "    popular_tracks_df = (\n",
    "        history_df.groupBy(\"track_id\")\n",
    "        .agg(count(\"user_id\").alias(\"playcount\"))\n",
    "        .join(music_df, on=\"track_id\")\n",
    "        .orderBy(desc(\"playcount\"))\n",
    "        .limit(num_songs)\n",
    "    )\n",
    "\n",
    "    # Check if the number of available tracks is less than the requested number\n",
    "    available_tracks = popular_tracks_df.count()\n",
    "    if available_tracks == 0:\n",
    "        print(\"No tracks available.\")\n",
    "        return\n",
    "    if available_tracks < num_songs:\n",
    "        print(f\"Only {available_tracks} track(s) available.\")\n",
    "    # Limit to the number of tracks available or the requested number\n",
    "    limit_tracks = num_songs if available_tracks >= num_songs else available_tracks\n",
    "    popular_tracks_df = popular_tracks_df.limit(limit_tracks)\n",
    "\n",
    "    # Show the recommended tracks only if there are available tracks\n",
    "    if available_tracks > 0:\n",
    "        popular_tracks_df.select(\"track_id\", \"name\", \"artist\").show(truncate=False)\n",
    "    \n",
    "    # Extract track names and play counts \n",
    "    data = popular_tracks_df.collect()\n",
    "    track_names = [row['name'] for row in data]\n",
    "    play_counts = [row['playcount'] for row in data]\n",
    "    \n",
    "    # Create a bar chart \n",
    "    fig, ax = plt.subplots(figsize=(12, 6))\n",
    "    fig.patch.set_facecolor('black')\n",
    "    ax.set_facecolor('black')\n",
    "    ax.bar(track_names, play_counts, color='blue', alpha=0.7)\n",
    "    # Add labels and title\n",
    "    ax.set_xlabel('Track Name', color='white')\n",
    "    ax.set_ylabel('Play Count', color='white')\n",
    "    ax.set_title(f'Top {num_songs} Most Popular Tracks', color='white')\n",
    "    # Rotate the x-axis labels\n",
    "    plt.xticks(rotation=90, color='white')\n",
    "    # Show gridlines\n",
    "    ax.grid(True, axis='y', color='gray')\n",
    "    # Add y-tick labels\n",
    "    ax.tick_params(axis='y', colors='white')\n",
    "    # Tight layout \n",
    "    plt.tight_layout()\n",
    "    # Show the plot\n",
    "    plt.show()\n"
   ]
  },
  {
   "cell_type": "code",
   "execution_count": 17,
   "metadata": {},
   "outputs": [
    {
     "name": "stderr",
     "output_type": "stream",
     "text": [
      "                                                                                \r"
     ]
    },
    {
     "name": "stdout",
     "output_type": "stream",
     "text": [
      "+------------------+---------------------+-----------------+\n",
      "|track_id          |name                 |artist           |\n",
      "+------------------+---------------------+-----------------+\n",
      "|TRONYHY128F92C9D11|Revelry              |Kings of Leon    |\n",
      "|TRUFTBY128F93450B8|Alejandro            |Lady Gaga        |\n",
      "|TRXWAZC128F9314B3E|Heartbreak Warfare   |John Mayer       |\n",
      "|TRCPXID128F92D5D3C|Halo                 |Depeche Mode     |\n",
      "|TRGCHLH12903CB7352|Party In The U.S.A.  |The Barden Bellas|\n",
      "|TROMKCG128F9320C09|Uprising             |Sabaton          |\n",
      "|TRPFYYL128F92F7144|Float On             |Modest Mouse     |\n",
      "|TRPGPDK12903CCC651|Bring Me To Life     |Katherine Jenkins|\n",
      "|TRWAQOC12903CB84CA|Sexy Bitch           |David Guetta     |\n",
      "|TRAALAH128E078234A|Bitter Sweet Symphony|The Verve        |\n",
      "+------------------+---------------------+-----------------+\n",
      "\n"
     ]
    },
    {
     "name": "stderr",
     "output_type": "stream",
     "text": [
      "                                                                                \r"
     ]
    },
    {
     "data": {
      "image/png": "[encoded data removed]",
      "text/plain": [
       "<Figure size 1200x600 with 1 Axes>"
      ]
     },
     "metadata": {},
     "output_type": "display_data"
    }
   ],
   "source": [
    "# Recommend the num_songs most popular tracks\n",
    "recommend_popular_songs(num_songs=10)"
   ]
  },
  {
   "cell_type": "markdown",
   "metadata": {},
   "source": [
    "3. RECOMMEND SONGS FOR A SPECIFIC USER BASED ON USER'S FEATURE AVERAGES"
   ]
  },
  {
   "cell_type": "code",
   "execution_count": 18,
   "metadata": {},
   "outputs": [],
   "source": [
    "# Function to recommend songs for a specific user based on audio feature averages\n",
    "def recommend_songs_based_on_user_preferences(user_id, num_songs=5):\n",
    "    print(f\"\\nRecommendations for user: {user_id}\")\n",
    "\n",
    "    # Verify if the user_id exists in history_df\n",
    "    if not history_df.filter(col(\"user_id\") == user_id).count():\n",
    "        print(f\"Error: User ID '{user_id}' does not exist in the dataset.\")\n",
    "        return\n",
    "    \n",
    "    # Get the tracks listened to by the user\n",
    "    user_tracks_df = history_df.filter(col(\"user_id\") == user_id).join(music_df, on=\"track_id\")\n",
    "    listened_track_ids = [row['track_id'] for row in user_tracks_df.select(\"track_id\").distinct().collect()]\n",
    "    \n",
    "    # Calculate the average values for the audio features of the tracks the user has listened to\n",
    "    avg_features_df = user_tracks_df.agg(\n",
    "        avg(\"danceability\").alias(\"avg_danceability\"),\n",
    "        avg(\"energy\").alias(\"avg_energy\"),\n",
    "        avg(\"loudness\").alias(\"avg_loudness\"),\n",
    "        avg(\"speechiness\").alias(\"avg_speechiness\"),\n",
    "        avg(\"acousticness\").alias(\"avg_acousticness\"),\n",
    "        avg(\"instrumentalness\").alias(\"avg_instrumentalness\"),\n",
    "        avg(\"liveness\").alias(\"avg_liveness\")\n",
    "    )\n",
    "\n",
    "    # Convert the result to a dictionary, replacing None values with -1.0\n",
    "    avg_features = avg_features_df.collect()[0].asDict()\n",
    "    avg_features = {k: (v if v is not None else -1.0) for k, v in avg_features.items()}\n",
    "    \n",
    "    # Extract average values as scalars\n",
    "    avg_danceability = float(avg_features['avg_danceability'])\n",
    "    avg_energy = float(avg_features['avg_energy'])\n",
    "    avg_loudness = float(avg_features['avg_loudness'])\n",
    "    avg_speechiness = float(avg_features['avg_speechiness'])\n",
    "    avg_acousticness = float(avg_features['avg_acousticness'])\n",
    "    avg_instrumentalness = float(avg_features['avg_instrumentalness'])\n",
    "    avg_liveness = float(avg_features['avg_liveness'])\n",
    "\n",
    "    # Recommend songs based on similarity to the user's average audio features, excluding songs already listened to\n",
    "    recommended_tracks_df = (\n",
    "        music_df.filter(~col(\"track_id\").isin(listened_track_ids))\n",
    "        .withColumn(\"score\",\n",
    "            (F.abs(col(\"danceability\") - F.lit(avg_danceability)) +\n",
    "             F.abs(col(\"energy\") - F.lit(avg_energy)) +\n",
    "             F.abs(col(\"loudness\") - F.lit(avg_loudness)) +\n",
    "             F.abs(col(\"speechiness\") - F.lit(avg_speechiness)) +\n",
    "             F.abs(col(\"acousticness\") - F.lit(avg_acousticness)) +\n",
    "             F.abs(col(\"instrumentalness\") - F.lit(avg_instrumentalness)) +\n",
    "             F.abs(col(\"liveness\") - F.lit(avg_liveness)))\n",
    "        )\n",
    "        .orderBy(\"score\")\n",
    "        .limit(num_songs)\n",
    "    )\n",
    "\n",
    "    # Check if the number of available tracks is less than the requested number\n",
    "    available_tracks = recommended_tracks_df.count()\n",
    "    if available_tracks == 0:\n",
    "        print(\"No tracks available for recommendation.\")\n",
    "        return\n",
    "    if available_tracks < num_songs:\n",
    "        print(f\"Only {available_tracks} track(s) available for recommendation.\")\n",
    "    # Limit to the number of tracks available or the requested number\n",
    "    limit_tracks = num_songs if available_tracks >= num_songs else available_tracks\n",
    "    recommended_tracks_df = recommended_tracks_df.limit(limit_tracks)\n",
    "    \n",
    "    # Show the recommended tracks only if there are available tracks\n",
    "    if available_tracks > 0:\n",
    "        recommended_tracks_df.select(\"track_id\", \"name\", \"artist\").show(truncate=False)\n"
   ]
  },
  {
   "cell_type": "code",
   "execution_count": 19,
   "metadata": {},
   "outputs": [
    {
     "name": "stderr",
     "output_type": "stream",
     "text": [
      "[Stage 64:======================================>                   (2 + 1) / 3]\r"
     ]
    },
    {
     "name": "stdout",
     "output_type": "stream",
     "text": [
      "Randomly chosen user_id: 4904f4155f705ecf2472b2396f7e37c21791ed13\n"
     ]
    },
    {
     "name": "stderr",
     "output_type": "stream",
     "text": [
      "                                                                                \r"
     ]
    }
   ],
   "source": [
    "# Obtain unique users\n",
    "unique_users_df = history_df.select(\"user_id\").distinct()\n",
    "\n",
    "#  Sample a single random user from the DataFrame\n",
    "random_user_row = unique_users_df.sample(withReplacement=False, fraction=0.01).limit(1).first()\n",
    "\n",
    "# Extract the user_id if available\n",
    "if random_user_row:\n",
    "    user_id = random_user_row['user_id']\n",
    "    print(f\"Randomly chosen user_id: {user_id}\")\n",
    "else:\n",
    "    print(\"No users found in the dataset.\")"
   ]
  },
  {
   "cell_type": "code",
   "execution_count": 20,
   "metadata": {},
   "outputs": [
    {
     "name": "stdout",
     "output_type": "stream",
     "text": [
      "\n",
      "Recommendations for user: 4904f4155f705ecf2472b2396f7e37c21791ed13\n"
     ]
    },
    {
     "name": "stderr",
     "output_type": "stream",
     "text": [
      "                                                                                \r"
     ]
    },
    {
     "name": "stdout",
     "output_type": "stream",
     "text": [
      "+------------------+----------------------------------------+--------------------------------------------+\n",
      "|track_id          |name                                    |artist                                      |\n",
      "+------------------+----------------------------------------+--------------------------------------------+\n",
      "|TRVBRQF12903CCDF46|The Recluse                             |Cursive                                     |\n",
      "|TRKTFNY128F932373D|Nobody's Baby                           |Sharon Jones and the Dap-Kings              |\n",
      "|TRZNREH128F427549C|Odchodząc                               |Republika                                   |\n",
      "|TRUPZCY128F4270FCC|I Wanted You To Feel The Same           |The Radio Dept.                             |\n",
      "|TRPNQDX128F4233429|We Can Get Wild                         |Mark Knopfler                               |\n",
      "|TRAYHZU12903CC80E9|Ends of the Earth                       |Lord Huron                                  |\n",
      "|TRGHIUF128F148C230|What Will You Do When Your Suntan Fades?|Beulah                                      |\n",
      "|TRRCAUV128F4274D54|Traumfrau                               |And One                                     |\n",
      "|TRQZHLT128E0784BCB|The Lost City Of Refuge                 |...And You Will Know Us by the Trail of Dead|\n",
      "|TRWSRFF12903CA6410|Blind My Mind                           |Flunk                                       |\n",
      "+------------------+----------------------------------------+--------------------------------------------+\n",
      "\n"
     ]
    }
   ],
   "source": [
    "# Recommend songs based on user features\n",
    "recommend_songs_based_on_user_preferences(user_id, num_songs=10)"
   ]
  },
  {
   "cell_type": "markdown",
   "metadata": {},
   "source": [
    "4. RECCOMEND 2O SONGS BASED ON USER'S MUSIC GENRE"
   ]
  },
  {
   "cell_type": "code",
   "execution_count": 21,
   "metadata": {},
   "outputs": [],
   "source": [
    "# Function to recommend 20 songs for a specific user based on their listening history and song attributes (genre)\n",
    "def recommend_songs_based_on_user_genre(user_id):\n",
    "    num_songs = 20\n",
    "    print(f\"\\nRecommendations for user: {user_id}\")\n",
    "\n",
    "    # Verify if the user_id exists in history_df\n",
    "    if not history_df.filter(col(\"user_id\") == user_id).count():\n",
    "        print(f\"Error: User ID '{user_id}' does not exist in the dataset.\")\n",
    "        return\n",
    "    \n",
    "    # Get the tracks listened to by the user along with play count\n",
    "    user_tracks_df = history_df.filter(col(\"user_id\") == user_id).join(music_df, on=\"track_id\")\n",
    "    \n",
    "    # Initialize dictionary to store counts for genres\n",
    "    genre_count = {}\n",
    "\n",
    "    # Iterate through user tracks to calculate genre and tag counts\n",
    "    for row in user_tracks_df.collect():\n",
    "        playcount = row['playcount']\n",
    "        genre = row['genre']\n",
    "        tags = row['tags']\n",
    "    \n",
    "        # Process genre\n",
    "        if genre != \"Unknown\":\n",
    "            if genre not in genre_count:\n",
    "                genre_count[genre] = 0\n",
    "            genre_count[genre] += playcount\n",
    "        else:\n",
    "            # Process tags if genre is unknown\n",
    "            tag_list = tags.split(\",\")\n",
    "            for tag in tag_list:\n",
    "                tag = tag.strip()\n",
    "                if tag != \"Unknown\":\n",
    "                    if tag not in genre_count:\n",
    "                        genre_count[tag] = 0\n",
    "                    genre_count[tag] += playcount\n",
    "\n",
    "    # Determine the most listened genre\n",
    "    most_listened_genre = sorted(genre_count.items(), key=lambda item: item[1], reverse=True)[0][0] if genre_count else None\n",
    "\n",
    "    # Provide feedback to the user about their preferences\n",
    "    print(f\"User's most listened genre: {most_listened_genre}\\n\")\n",
    "\n",
    "    # Recommend songs that match the most listened genre, excluding songs already listened to\n",
    "    listened_track_ids = [row['track_id'] for row in user_tracks_df.select(\"track_id\").distinct().collect()]\n",
    "    recommended_tracks_df = music_df.filter(~col(\"track_id\").isin(listened_track_ids))\n",
    "\n",
    "    if most_listened_genre:\n",
    "        recommended_tracks_df = recommended_tracks_df.filter(col(\"genre\") == most_listened_genre)\n",
    "\n",
    "    # Check if there are any songs to recommend\n",
    "    if recommended_tracks_df.count() == 0:\n",
    "        # If no songs are available, recommend songs that match the most listened genre using tags\n",
    "        if most_listened_genre:\n",
    "            recommended_tracks_df = music_df.filter((col(\"tags\").contains(most_listened_genre)) & (~col(\"track_id\").isin(listened_track_ids)))\n",
    "\n",
    "    # Provide context for the recommendations\n",
    "    if most_listened_genre:\n",
    "        print(f\"Recommendations based on genre '{most_listened_genre}'.\")\n",
    "    else:\n",
    "        print(\"Insufficient user data, providing generic recommendations.\")\n",
    "\n",
    "    # Show only the first 20 recommended tracks\n",
    "    recommended_tracks_df.select(\"track_id\", \"name\", \"artist\", \"genre\", \"tags\").limit(num_songs).show(truncate=False)\n"
   ]
  },
  {
   "cell_type": "code",
   "execution_count": 22,
   "metadata": {},
   "outputs": [
    {
     "name": "stdout",
     "output_type": "stream",
     "text": [
      "\n",
      "Recommendations for user: 4904f4155f705ecf2472b2396f7e37c21791ed13\n"
     ]
    },
    {
     "name": "stderr",
     "output_type": "stream",
     "text": [
      "                                                                                \r"
     ]
    },
    {
     "name": "stdout",
     "output_type": "stream",
     "text": [
      "User's most listened genre: electronic\n",
      "\n"
     ]
    },
    {
     "name": "stderr",
     "output_type": "stream",
     "text": [
      "                                                                                \r"
     ]
    },
    {
     "name": "stdout",
     "output_type": "stream",
     "text": [
      "Recommendations based on genre 'electronic'.\n",
      "+------------------+-------------------+---------------+----------+------------------------------------------------------------------------------------------------------------------------------------------------+\n",
      "|track_id          |name               |artist         |genre     |tags                                                                                                                                            |\n",
      "+------------------+-------------------+---------------+----------+------------------------------------------------------------------------------------------------------------------------------------------------+\n",
      "|TRYEZGE128F92D04C8|Feel Good Inc.     |Gorillaz       |RnB       |rock, electronic, alternative, indie, pop, alternative_rock, dance, british, hip_hop, trip_hop                                                  |\n",
      "|TRIQWYH128F1486062|Paranoid Android   |Radiohead      |Jazz      |rock, electronic, alternative, indie, alternative_rock, experimental, indie_rock, progressive_rock, british, 90s, britpop                       |\n",
      "|TRUTNPC128F9300385|Clint Eastwood     |Gorillaz       |Unknown   |rock, electronic, alternative, indie, pop, alternative_rock, british, rap, hip_hop, trip_hop, 00s                                               |\n",
      "|TRGTHCA128E0782187|Airbag             |Radiohead      |Unknown   |rock, electronic, alternative, indie, alternative_rock, experimental, indie_rock, british, 90s, britpop                                         |\n",
      "|TRARTEH128F423DBC1|15 Step            |Radiohead      |Rock      |rock, electronic, alternative, indie, alternative_rock, experimental, indie_rock, british, britpop                                              |\n",
      "|TRUGBPO128F92ECC3A|All I Need         |Radiohead      |Unknown   |rock, electronic, alternative, indie, alternative_rock, experimental, indie_rock, british, love, beautiful, britpop                             |\n",
      "|TRHHSUX128F932E546|Bodysnatchers      |Radiohead      |Electronic|rock, electronic, alternative, indie, alternative_rock, experimental, indie_rock, british, psychedelic, 00s                                     |\n",
      "|TRXBTXG128F9305E78|Lisztomania        |Phoenix        |Unknown   |rock, electronic, alternative, indie, pop, indie_rock, dance, indie_pop, french                                                                 |\n",
      "|TRDEWAJ12903CDC8EE|House of Cards     |Radiohead      |Unknown   |rock, electronic, alternative, indie, alternative_rock, ambient, experimental, indie_rock, british, love, beautiful, 00s, britpop, mellow, chill|\n",
      "|TRILWTF12903CE22FA|Nude               |Radiohead      |Unknown   |rock, electronic, alternative, indie, alternative_rock, ambient, experimental, indie_rock, british, chillout, beautiful, 00s, mellow, chill     |\n",
      "|TRBENMR12903CE9B16|Dirty Harry        |Gorillaz       |Unknown   |rock, electronic, alternative, indie, pop, alternative_rock, dance, british, hip_hop, funk, trip_hop, 00s                                       |\n",
      "|TRLTQRM128F149F120|Sail               |Awolnation     |Unknown   |rock, electronic, alternative, indie, alternative_rock, indie_rock, chill                                                                       |\n",
      "|TRADPQN128F932D33E|Heads Will Roll    |Yeah Yeah Yeahs|Rock      |rock, electronic, alternative, indie, female_vocalists, indie_rock, dance, 00s                                                                  |\n",
      "|TRGDQXO128F428EE14|Electioneering     |Radiohead      |Reggae    |rock, electronic, alternative, indie, alternative_rock, experimental, indie_rock, british, 90s, britpop                                         |\n",
      "|TRLWTAG128E0789037|Kids With Guns     |Gorillaz       |Rock      |rock, electronic, alternative, indie, pop, alternative_rock, british, hip_hop, trip_hop                                                         |\n",
      "|TRUIFZF128F4230132|The National Anthem|Radiohead      |Unknown   |rock, electronic, alternative, indie, alternative_rock, jazz, experimental, progressive_rock, british, 00s, britpop, avant_garde                |\n",
      "|TRHQYEV128E078129D|Pyramid Song       |Radiohead      |Rock      |rock, electronic, alternative, indie, alternative_rock, experimental, british, chillout, piano, beautiful, mellow                               |\n",
      "|TRJPARF128F428EE13|Fitter Happier     |Radiohead      |Reggae    |rock, electronic, alternative, indie, alternative_rock, experimental, british, 90s, britpop                                                     |\n",
      "|TRIZULQ128F932E773|Kid A              |Radiohead      |Unknown   |rock, electronic, alternative, indie, alternative_rock, ambient, experimental, british, chillout, post_rock, 00s                                |\n",
      "|TRXGMLB128F42765BA|On the Run         |Pink Floyd     |Rock      |rock, electronic, classic_rock, experimental, instrumental, progressive_rock, british, psychedelic, 70s, psychedelic_rock                       |\n",
      "+------------------+-------------------+---------------+----------+------------------------------------------------------------------------------------------------------------------------------------------------+\n",
      "\n"
     ]
    }
   ],
   "source": [
    "# Recommend songs based on user preferences (genre)\n",
    "recommend_songs_based_on_user_genre(user_id=user_id)"
   ]
  },
  {
   "cell_type": "markdown",
   "metadata": {},
   "source": [
    "5. RECOMMEND SONGS BASED ON USER'S MOST LISTENED YEAR"
   ]
  },
  {
   "cell_type": "code",
   "execution_count": 23,
   "metadata": {},
   "outputs": [],
   "source": [
    "# Function to recommend 20 songs for a specific user based on their listening history and song attributes (year)\n",
    "def recommend_songs_based_on_user_year(user_id):\n",
    "    num_songs = 20\n",
    "    print(f\"\\nRecommendations for user: {user_id}\")\n",
    "\n",
    "    # Verify if the user_id exists in history_df\n",
    "    if not history_df.filter(col(\"user_id\") == user_id).count():\n",
    "        print(f\"Error: User ID '{user_id}' does not exist in the dataset.\")\n",
    "        return\n",
    "    \n",
    "    # Get the tracks listened to by the user \n",
    "    user_tracks_df = history_df.filter(col(\"user_id\") == user_id).join(music_df, on=\"track_id\")\n",
    "    \n",
    "    # Initialize year's dictionary \n",
    "    year_count = {}\n",
    "\n",
    "    # Calculate year counts\n",
    "    for row in user_tracks_df.collect():\n",
    "        playcount = row['playcount']\n",
    "        year = row['year']\n",
    "\n",
    "        if year not in year_count:\n",
    "            year_count[year] = 0\n",
    "        year_count[year] += playcount\n",
    "\n",
    "    # Determine the most listened year\n",
    "    most_listened_year = sorted(year_count.items(), key=lambda item: item[1], reverse=True)[0][0] if year_count else None\n",
    "    print(f\"User's most listened year: {most_listened_year}\\n\")\n",
    "\n",
    "    # Recommend songs that match the most listened year, excluding songs already listened to\n",
    "    listened_track_ids = [row['track_id'] for row in user_tracks_df.select(\"track_id\").distinct().collect()]\n",
    "    recommended_tracks_df = music_df.filter(~col(\"track_id\").isin(listened_track_ids))\n",
    "\n",
    "    if most_listened_year:\n",
    "        recommended_tracks_df = recommended_tracks_df.filter(col(\"year\") == most_listened_year)\n",
    "\n",
    "    # Check if there are any songs to recommend\n",
    "    if recommended_tracks_df.count() == 0:\n",
    "        # If no songs are available, provide generic recommendations\n",
    "        recommended_tracks_df = music_df.filter(~col(\"track_id\").isin(listened_track_ids))\n",
    "\n",
    "    if most_listened_year:\n",
    "        print(f\"Recommendations based on year '{most_listened_year}'.\")\n",
    "    else:\n",
    "        print(\"Insufficient user data, providing generic recommendations.\")\n",
    "\n",
    "    # Show only the first 20 recommended tracks\n",
    "    recommended_tracks_df.select(\"track_id\", \"name\", \"artist\", \"year\", \"genre\").limit(num_songs).show(truncate=False)\n"
   ]
  },
  {
   "cell_type": "code",
   "execution_count": 24,
   "metadata": {},
   "outputs": [
    {
     "name": "stdout",
     "output_type": "stream",
     "text": [
      "\n",
      "Recommendations for user: 4904f4155f705ecf2472b2396f7e37c21791ed13\n"
     ]
    },
    {
     "name": "stderr",
     "output_type": "stream",
     "text": [
      "                                                                                \r"
     ]
    },
    {
     "name": "stdout",
     "output_type": "stream",
     "text": [
      "User's most listened year: 2008\n",
      "\n"
     ]
    },
    {
     "name": "stderr",
     "output_type": "stream",
     "text": [
      "                                                                                \r"
     ]
    },
    {
     "name": "stdout",
     "output_type": "stream",
     "text": [
      "Recommendations based on year '2008'.\n",
      "+------------------+------------------------------------+-----------------+----+----------+\n",
      "|track_id          |name                                |artist           |year|genre     |\n",
      "+------------------+------------------------------------+-----------------+----+----------+\n",
      "|TRLNZBD128F935E4D8|Creep                               |Radiohead        |2008|RnB       |\n",
      "|TRURKLR12903CEBD47|Seven Nation Army                   |The White Stripes|2008|Unknown   |\n",
      "|TRUENYK128F4274057|Chop Suey!                          |System of a Down |2008|Metal     |\n",
      "|TRAGABG12903CEC68B|No Surprises                        |Radiohead        |2008|Unknown   |\n",
      "|TRSXCET128F92EB269|I Kissed a Girl                     |Katy Perry       |2008|Unknown   |\n",
      "|TRCUKNC12903CA03A6|High and Dry                        |Radiohead        |2008|Unknown   |\n",
      "|TRAAHSY128F147BB5C|Speed of Sound                      |Coldplay         |2008|Rock      |\n",
      "|TRJQVPN128F932BE9C|Here Without You                    |3 Doors Down     |2008|Unknown   |\n",
      "|TRFNMWD128F930CD13|Closer                              |Kings of Leon    |2008|Unknown   |\n",
      "|TRHHSUX128F932E546|Bodysnatchers                       |Radiohead        |2008|Electronic|\n",
      "|TRUDJQA128F930F7B9|Lucky                               |Radiohead        |2008|Rock      |\n",
      "|TRHJOFO12903CBFDE9|There Is a Light That Never Goes Out|The Smiths       |2008|Rock      |\n",
      "|TRFVBOA128F42433F8|Free Bird                           |Lynyrd Skynyrd   |2008|Unknown   |\n",
      "|TRONYHY128F92C9D11|Revelry                             |Kings of Leon    |2008|Rock      |\n",
      "|TRLNFJJ128F9322DB1|So What                             |P!nk             |2008|Unknown   |\n",
      "|TRFODRF128E0781B18|The Bends                           |Radiohead        |2008|Rock      |\n",
      "|TRXHXPE128F421CA4E|Lovefool                            |The Cardigans    |2008|Unknown   |\n",
      "|TRAUTUL128F1476D92|Love Me Do                          |The Beatles      |2008|Unknown   |\n",
      "|TRYPIZJ128F4289C05|I Want to Hold Your Hand            |The Beatles      |2008|Unknown   |\n",
      "|TRYAWVI128F42A01AE|Crawl                               |Kings of Leon    |2008|Punk      |\n",
      "+------------------+------------------------------------+-----------------+----+----------+\n",
      "\n"
     ]
    }
   ],
   "source": [
    "# Recommend songs based on user year\n",
    "recommend_songs_based_on_user_year(user_id=user_id)"
   ]
  },
  {
   "cell_type": "code",
   "execution_count": 25,
   "metadata": {},
   "outputs": [],
   "source": [
    "# Stop Spark session\n",
    "spark.stop()"
   ]
  }
 ],
 "metadata": {
  "kernelspec": {
   "display_name": "venv",
   "language": "python",
   "name": "python3"
  },
  "language_info": {
   "codemirror_mode": {
    "name": "ipython",
    "version": 3
   },
   "file_extension": ".py",
   "mimetype": "text/x-python",
   "name": "python",
   "nbconvert_exporter": "python",
   "pygments_lexer": "ipython3",
   "version": "3.12.3"
  }
 },
 "nbformat": 4,
 "nbformat_minor": 2
}
