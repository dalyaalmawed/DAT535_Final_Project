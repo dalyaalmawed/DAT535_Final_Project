{
 "cells": [
  {
   "cell_type": "markdown",
   "metadata": {},
   "source": [
    "DATA INGESTION"
   ]
  },
  {
   "cell_type": "code",
   "execution_count": 1,
   "metadata": {},
   "outputs": [],
   "source": [
    "from pyspark.sql import SparkSession"
   ]
  },
  {
   "cell_type": "code",
   "execution_count": null,
   "metadata": {},
   "outputs": [],
   "source": [
    "# Initialize Spark session\n",
    "spark = SparkSession.builder \\\n",
    "    .appName(\"CSVtoTXT\") \\\n",
    "    .getOrCreate()"
   ]
  },
  {
   "cell_type": "code",
   "execution_count": null,
   "metadata": {},
   "outputs": [],
   "source": [
    "# Define HDFS file paths\n",
    "csv_path_music = \"hdfs:///mydata/music_info.csv\" \n",
    "csv_path_history = \"hdfs:///mydata/User_Listening_History.csv\" \n",
    "txt_output_path_music = \"hdfs:///mydata/music_info_unstructured_semicolon.txt\"\n",
    "txt_output_path_history = \"hdfs:///mydata/user_listening_history_unstructured_semicolon.txt\""
   ]
  },
  {
   "cell_type": "code",
   "execution_count": null,
   "metadata": {},
   "outputs": [
    {
     "name": "stderr",
     "output_type": "stream",
     "text": [
      "                                                                                \r"
     ]
    }
   ],
   "source": [
    "# Load CSV files from HDFS\n",
    "df_music = spark.read.option(\"header\", \"true\").csv(csv_path_music)\n",
    "df_history = spark.read.option(\"header\", \"true\").csv(csv_path_history)"
   ]
  },
  {
   "cell_type": "code",
   "execution_count": null,
   "metadata": {},
   "outputs": [],
   "source": [
    "# Transform each row by joining fields with \";\" and handle None values by replacing them with empty strings\n",
    "formatted_rdd_music = df_music.rdd.map(lambda row: \";\".join([str(field) if field is not None else \"\" for field in row]))\n",
    "formatted_rdd_history = df_history.rdd.map(lambda row: \";\".join([str(field) if field is not None else \"\" for field in row]))"
   ]
  },
  {
   "cell_type": "code",
   "execution_count": null,
   "metadata": {},
   "outputs": [
    {
     "name": "stderr",
     "output_type": "stream",
     "text": [
      "[Stage 2:>                                                          (0 + 1) / 1]\r"
     ]
    },
    {
     "name": "stderr",
     "output_type": "stream",
     "text": [
      "                                                                                \r"
     ]
    },
    {
     "name": "stdout",
     "output_type": "stream",
     "text": [
      "Sample from music_info_unstructured:\n",
      "+------------------------------------------------------------------------------------------------------------------------------------------------------------------------------------------------------------------------------------------------------------------------------------------------------------------------------------------------+\n",
      "|unstructured_data                                                                                                                                                                                                                                                                                                                               |\n",
      "+------------------------------------------------------------------------------------------------------------------------------------------------------------------------------------------------------------------------------------------------------------------------------------------------------------------------------------------------+\n",
      "|TRIOREW128F424EAF0;Mr. Brightside;The Killers;https://p.scdn.co/mp3-preview/4d26180e6961fd46866cd9106936ea55dfcbaa75?cid=774b29d4f13844c495f206cafdad9c86;09ZQ5TmUG8TSL56n0knqrj;rock, alternative, indie, alternative_rock, indie_rock, 00s;;2004;222200;0.355;0.918;1;-4.36;1;0.0746;0.00119;0.0;0.0971;0.24;148.114;4                        |\n",
      "|TRRIVDJ128F429B0E8;Wonderwall;Oasis;https://p.scdn.co/mp3-preview/d012e536916c927bd6c8ced0dae75ee3b7715983?cid=774b29d4f13844c495f206cafdad9c86;06UfBBDISthj1ZJAtX4xjj;rock, alternative, indie, pop, alternative_rock, british, 90s, love, britpop;;2006;258613;0.409;0.892;2;-4.373;1;0.0336;0.000807;0.0;0.207;0.651;174.426;4               |\n",
      "|TROUVHL128F426C441;Come as You Are;Nirvana;https://p.scdn.co/mp3-preview/a1c11bb1cb231031eb20e5951a8bfb30503224e9?cid=774b29d4f13844c495f206cafdad9c86;0keNu0t0tqsWtExGM3nT1D;rock, alternative, alternative_rock, 90s, grunge;RnB;1991;218920;0.508;0.826;4;-5.783;0;0.04;0.000175;0.000459;0.0878;0.543;120.012;4                             |\n",
      "|TRUEIND128F93038C4;Take Me Out;Franz Ferdinand;https://p.scdn.co/mp3-preview/399c401370438be449c2aebff816ba8c62559871?cid=774b29d4f13844c495f206cafdad9c86;0ancVQ9wEcHVd0RrGICTE4;rock, alternative, indie, alternative_rock, indie_rock, british, 00s, britpop;;2004;237026;0.279;0.664;9;-8.851;1;0.0371;0.000389;0.000655;0.133;0.49;104.56;4|\n",
      "|TRLNZBD128F935E4D8;Creep;Radiohead;https://p.scdn.co/mp3-preview/e7eb60e9466bc3a27299ea8803aadf4fa9cf795c?cid=774b29d4f13844c495f206cafdad9c86;01QoK9DA7VTeTSE3MNzp4I;rock, alternative, indie, alternative_rock, indie_rock, british, 90s, britpop;RnB;2008;238640;0.515;0.43;7;-9.935;1;0.0369;0.0102;0.000141;0.129;0.104;91.841;4           |\n",
      "+------------------------------------------------------------------------------------------------------------------------------------------------------------------------------------------------------------------------------------------------------------------------------------------------------------------------------------------------+\n",
      "only showing top 5 rows\n",
      "\n",
      "\n",
      "Sample from user_listening_history_unstructured:\n",
      "+-------------------------------------------------------------+\n",
      "|unstructured_data                                            |\n",
      "+-------------------------------------------------------------+\n",
      "|TRIRLYL128F42539D1;b80344d063b5ccb3212f76538f3d9e43d87dca9e;1|\n",
      "|TRFUPBA128F934F7E1;b80344d063b5ccb3212f76538f3d9e43d87dca9e;1|\n",
      "|TRLQPQJ128F42AA94F;b80344d063b5ccb3212f76538f3d9e43d87dca9e;1|\n",
      "|TRTUCUY128F92E1D24;b80344d063b5ccb3212f76538f3d9e43d87dca9e;1|\n",
      "|TRHDDQG12903CB53EE;b80344d063b5ccb3212f76538f3d9e43d87dca9e;1|\n",
      "+-------------------------------------------------------------+\n",
      "only showing top 5 rows\n",
      "\n"
     ]
    }
   ],
   "source": [
    "# Convert each RDD row to a single-element tuple for DataFrame compatibility\n",
    "formatted_rdd_music_df = formatted_rdd_music.map(lambda row: (row,)).toDF([\"unstructured_data\"])\n",
    "formatted_rdd_history_df = formatted_rdd_history.map(lambda row: (row,)).toDF([\"unstructured_data\"])\n",
    "\n",
    "# Show the first 5 rows of each transformed RDD\n",
    "print(\"Sample from music_info_unstructured:\")\n",
    "formatted_rdd_music_df.show(5, truncate=False)\n",
    "\n",
    "print(\"\\nSample from user_listening_history_unstructured:\")\n",
    "formatted_rdd_history_df.show(5, truncate=False)"
   ]
  },
  {
   "cell_type": "code",
   "execution_count": null,
   "metadata": {},
   "outputs": [],
   "source": [
    "num_partitions = rdd.getNumPartitions()\n",
    "print(f\"The RDD has {num_partitions} partitions.\")\n"
   ]
  },
  {
   "cell_type": "code",
   "execution_count": null,
   "metadata": {},
   "outputs": [],
   "source": [
    "from subprocess import call"
   ]
  },
  {
   "cell_type": "code",
   "execution_count": null,
   "metadata": {},
   "outputs": [
    {
     "name": "stdout",
     "output_type": "stream",
     "text": [
      "Deleted hdfs:///mydata/music_info_unstructured_semicolon.txt\n",
      "Deleted hdfs:///mydata/user_listening_history_unstructured_semicolon.txt\n"
     ]
    },
    {
     "data": {
      "text/plain": [
       "0"
      ]
     },
     "execution_count": 18,
     "metadata": {},
     "output_type": "execute_result"
    }
   ],
   "source": [
    "# Remove the existing output directories if they exist\n",
    "call([\"hadoop\", \"fs\", \"-rm\", \"-r\", txt_output_path_music])\n",
    "call([\"hadoop\", \"fs\", \"-rm\", \"-r\", txt_output_path_history])"
   ]
  },
  {
   "cell_type": "code",
   "execution_count": null,
   "metadata": {},
   "outputs": [
    {
     "name": "stderr",
     "output_type": "stream",
     "text": [
      "                                                                                \r"
     ]
    }
   ],
   "source": [
    "# Save the transformed RDDs as TXT files with semicolons in HDFS\n",
    "formatted_rdd_music.saveAsTextFile(txt_output_path_music)\n",
    "formatted_rdd_history.saveAsTextFile(txt_output_path_history)"
   ]
  },
  {
   "cell_type": "code",
   "execution_count": null,
   "metadata": {},
   "outputs": [],
   "source": [
    "# Stop the Spark session\n",
    "spark.stop()"
   ]
  }
 ],
 "metadata": {
  "kernelspec": {
   "display_name": "venv",
   "language": "python",
   "name": "python3"
  },
  "language_info": {
   "codemirror_mode": {
    "name": "ipython",
    "version": 3
   },
   "file_extension": ".py",
   "mimetype": "text/x-python",
   "name": "python",
   "nbconvert_exporter": "python",
   "pygments_lexer": "ipython3",
   "version": "3.12.3"
  }
 },
 "nbformat": 4,
 "nbformat_minor": 2
}
